{
 "cells": [
  {
   "cell_type": "markdown",
   "id": "korean-wednesday",
   "metadata": {},
   "source": [
    "# Feature Engineering\n",
    "You should build a machine learning pipeline with a data preprocessing and feature engineering step. In particular, you should do the following:\n",
    "- Load the `adult` dataset using [Pandas](https://pandas.pydata.org/docs/reference/api/pandas.read_csv.html). You can find this dataset in the datasets folder.\n",
    "- Split the dataset into training and test sets using [Scikit-Learn](https://scikit-learn.org/stable/modules/generated/sklearn.model_selection.train_test_split.html). \n",
    "- Preprocess the dataset by \n",
    "    - removing missing values using [Pandas](https://pandas.pydata.org/docs/reference/api/pandas.DataFrame.dropna.html);\n",
    "    - encoding categorical attributes using [Scikit-Learn](https://scikit-learn.org/stable/modules/generated/sklearn.preprocessing.OneHotEncoder.html);\n",
    "    - normalizing/scaling features using [Scikit-Learn](https://scikit-learn.org/stable/modules/generated/sklearn.preprocessing.StandardScaler.html);\n",
    "    - handling imbalanced classes using [Imbalanced-Learn](https://imbalanced-learn.org/stable/references/generated/imblearn.over_sampling.SMOTE.html);\n",
    "    - and reducing the dimensionality of the dataset using [Scikit-Learn](https://scikit-learn.org/stable/modules/generated/sklearn.decomposition.PCA.html).\n",
    "- Train and test a support vector machine model using [Scikit-Learn](https://scikit-learn.org/stable/modules/generated/sklearn.svm.SVC.html).\n",
    "- Evaluate the impact of the data preprocessing and feature engineering methods on the effectiveness and efficiency of the model.\n",
    "- Check the documentation to identify the most important hyperparameters, attributes, and methods. Use them in practice."
   ]
  },
  {
   "cell_type": "markdown",
   "id": "784be3b0",
   "metadata": {},
   "source": [
    "## Importing Modules"
   ]
  },
  {
   "cell_type": "code",
   "execution_count": 1,
   "id": "eb766b5d",
   "metadata": {},
   "outputs": [],
   "source": [
    "import pandas as pd\n",
    "import sklearn.model_selection\n",
    "import sklearn.svm\n",
    "import sklearn.metrics\n",
    "import sklearn.preprocessing\n",
    "import sklearn.decomposition\n",
    "import imblearn.over_sampling"
   ]
  },
  {
   "cell_type": "markdown",
   "id": "4485ba72",
   "metadata": {},
   "source": [
    "## Loading the Dataset"
   ]
  },
  {
   "cell_type": "code",
   "execution_count": 2,
   "id": "21b44732",
   "metadata": {},
   "outputs": [
    {
     "data": {
      "text/html": [
       "<div>\n",
       "<style scoped>\n",
       "    .dataframe tbody tr th:only-of-type {\n",
       "        vertical-align: middle;\n",
       "    }\n",
       "\n",
       "    .dataframe tbody tr th {\n",
       "        vertical-align: top;\n",
       "    }\n",
       "\n",
       "    .dataframe thead th {\n",
       "        text-align: right;\n",
       "    }\n",
       "</style>\n",
       "<table border=\"1\" class=\"dataframe\">\n",
       "  <thead>\n",
       "    <tr style=\"text-align: right;\">\n",
       "      <th></th>\n",
       "      <th>age</th>\n",
       "      <th>workclass</th>\n",
       "      <th>fnlwgt</th>\n",
       "      <th>education</th>\n",
       "      <th>education-num</th>\n",
       "      <th>marital-status</th>\n",
       "      <th>occupation</th>\n",
       "      <th>relationship</th>\n",
       "      <th>race</th>\n",
       "      <th>sex</th>\n",
       "      <th>capital-gain</th>\n",
       "      <th>capital-loss</th>\n",
       "      <th>hours-per-week</th>\n",
       "      <th>native-country</th>\n",
       "      <th>target</th>\n",
       "    </tr>\n",
       "  </thead>\n",
       "  <tbody>\n",
       "    <tr>\n",
       "      <th>0</th>\n",
       "      <td>39</td>\n",
       "      <td>State-gov</td>\n",
       "      <td>77516</td>\n",
       "      <td>Bachelors</td>\n",
       "      <td>13</td>\n",
       "      <td>Never-married</td>\n",
       "      <td>Adm-clerical</td>\n",
       "      <td>Not-in-family</td>\n",
       "      <td>White</td>\n",
       "      <td>Male</td>\n",
       "      <td>2174</td>\n",
       "      <td>0</td>\n",
       "      <td>40</td>\n",
       "      <td>United-States</td>\n",
       "      <td>&lt;=50K</td>\n",
       "    </tr>\n",
       "    <tr>\n",
       "      <th>1</th>\n",
       "      <td>50</td>\n",
       "      <td>Self-emp-not-inc</td>\n",
       "      <td>83311</td>\n",
       "      <td>Bachelors</td>\n",
       "      <td>13</td>\n",
       "      <td>Married-civ-spouse</td>\n",
       "      <td>Exec-managerial</td>\n",
       "      <td>Husband</td>\n",
       "      <td>White</td>\n",
       "      <td>Male</td>\n",
       "      <td>0</td>\n",
       "      <td>0</td>\n",
       "      <td>13</td>\n",
       "      <td>United-States</td>\n",
       "      <td>&lt;=50K</td>\n",
       "    </tr>\n",
       "    <tr>\n",
       "      <th>2</th>\n",
       "      <td>38</td>\n",
       "      <td>Private</td>\n",
       "      <td>215646</td>\n",
       "      <td>HS-grad</td>\n",
       "      <td>9</td>\n",
       "      <td>Divorced</td>\n",
       "      <td>Handlers-cleaners</td>\n",
       "      <td>Not-in-family</td>\n",
       "      <td>White</td>\n",
       "      <td>Male</td>\n",
       "      <td>0</td>\n",
       "      <td>0</td>\n",
       "      <td>40</td>\n",
       "      <td>United-States</td>\n",
       "      <td>&lt;=50K</td>\n",
       "    </tr>\n",
       "    <tr>\n",
       "      <th>3</th>\n",
       "      <td>53</td>\n",
       "      <td>Private</td>\n",
       "      <td>234721</td>\n",
       "      <td>11th</td>\n",
       "      <td>7</td>\n",
       "      <td>Married-civ-spouse</td>\n",
       "      <td>Handlers-cleaners</td>\n",
       "      <td>Husband</td>\n",
       "      <td>Black</td>\n",
       "      <td>Male</td>\n",
       "      <td>0</td>\n",
       "      <td>0</td>\n",
       "      <td>40</td>\n",
       "      <td>United-States</td>\n",
       "      <td>&lt;=50K</td>\n",
       "    </tr>\n",
       "    <tr>\n",
       "      <th>4</th>\n",
       "      <td>28</td>\n",
       "      <td>Private</td>\n",
       "      <td>338409</td>\n",
       "      <td>Bachelors</td>\n",
       "      <td>13</td>\n",
       "      <td>Married-civ-spouse</td>\n",
       "      <td>Prof-specialty</td>\n",
       "      <td>Wife</td>\n",
       "      <td>Black</td>\n",
       "      <td>Female</td>\n",
       "      <td>0</td>\n",
       "      <td>0</td>\n",
       "      <td>40</td>\n",
       "      <td>Cuba</td>\n",
       "      <td>&lt;=50K</td>\n",
       "    </tr>\n",
       "  </tbody>\n",
       "</table>\n",
       "</div>"
      ],
      "text/plain": [
       "   age          workclass  fnlwgt   education  education-num  \\\n",
       "0   39          State-gov   77516   Bachelors             13   \n",
       "1   50   Self-emp-not-inc   83311   Bachelors             13   \n",
       "2   38            Private  215646     HS-grad              9   \n",
       "3   53            Private  234721        11th              7   \n",
       "4   28            Private  338409   Bachelors             13   \n",
       "\n",
       "        marital-status          occupation    relationship    race      sex  \\\n",
       "0        Never-married        Adm-clerical   Not-in-family   White     Male   \n",
       "1   Married-civ-spouse     Exec-managerial         Husband   White     Male   \n",
       "2             Divorced   Handlers-cleaners   Not-in-family   White     Male   \n",
       "3   Married-civ-spouse   Handlers-cleaners         Husband   Black     Male   \n",
       "4   Married-civ-spouse      Prof-specialty            Wife   Black   Female   \n",
       "\n",
       "   capital-gain  capital-loss  hours-per-week  native-country  target  \n",
       "0          2174             0              40   United-States   <=50K  \n",
       "1             0             0              13   United-States   <=50K  \n",
       "2             0             0              40   United-States   <=50K  \n",
       "3             0             0              40   United-States   <=50K  \n",
       "4             0             0              40            Cuba   <=50K  "
      ]
     },
     "execution_count": 2,
     "metadata": {},
     "output_type": "execute_result"
    }
   ],
   "source": [
    "df = pd.read_csv(\"../../datasets/adult.csv\")\n",
    "df.head()"
   ]
  },
  {
   "cell_type": "markdown",
   "id": "b116b66b",
   "metadata": {},
   "source": [
    "## Splitting the Data into Training and Test Sets"
   ]
  },
  {
   "cell_type": "code",
   "execution_count": 3,
   "id": "2f3df2cf",
   "metadata": {},
   "outputs": [
    {
     "name": "stdout",
     "output_type": "stream",
     "text": [
      "df_train: (24420, 15)\n",
      "df_test: (8141, 15)\n"
     ]
    }
   ],
   "source": [
    "df_train, df_test = sklearn.model_selection.train_test_split(df)\n",
    "print(\"df_train:\", df_train.shape)\n",
    "print(\"df_test:\", df_test.shape)"
   ]
  },
  {
   "cell_type": "markdown",
   "id": "d72e4fc7",
   "metadata": {},
   "source": [
    "## Data Exploration on Training Data"
   ]
  },
  {
   "cell_type": "code",
   "execution_count": 4,
   "id": "6fe3ed18",
   "metadata": {},
   "outputs": [
    {
     "data": {
      "text/plain": [
       "array([' Private', ' Self-emp-not-inc', ' Federal-gov', ' Self-emp-inc',\n",
       "       ' Local-gov', ' ?', ' State-gov', ' Never-worked', ' Without-pay'],\n",
       "      dtype=object)"
      ]
     },
     "execution_count": 4,
     "metadata": {},
     "output_type": "execute_result"
    }
   ],
   "source": [
    "df_train[\"workclass\"].unique()"
   ]
  },
  {
   "cell_type": "code",
   "execution_count": 11,
   "id": "49a067d9",
   "metadata": {},
   "outputs": [
    {
     "data": {
      "text/plain": [
       " <=50K    16995\n",
       " >50K      5635\n",
       "Name: target, dtype: int64"
      ]
     },
     "execution_count": 11,
     "metadata": {},
     "output_type": "execute_result"
    }
   ],
   "source": [
    "df_train[\"target\"].value_counts()"
   ]
  },
  {
   "cell_type": "markdown",
   "id": "3b159e2c",
   "metadata": {},
   "source": [
    "## Removing Missing Values"
   ]
  },
  {
   "cell_type": "code",
   "execution_count": 6,
   "id": "fe52609c",
   "metadata": {},
   "outputs": [
    {
     "name": "stdout",
     "output_type": "stream",
     "text": [
      "df_train_cleaned: (22630, 15)\n",
      "df_test_cleaned: (7532, 15)\n"
     ]
    }
   ],
   "source": [
    "df_train = df_train.replace(\" ?\", pd.NaT)\n",
    "df_train_cleaned = df_train.dropna()\n",
    "print(\"df_train_cleaned:\", df_train_cleaned.shape)\n",
    "\n",
    "df_test = df_test.replace(\" ?\", pd.NaT)\n",
    "df_test_cleaned = df_test.dropna()\n",
    "print(\"df_test_cleaned:\", df_test_cleaned.shape)"
   ]
  },
  {
   "cell_type": "markdown",
   "id": "82e8d821",
   "metadata": {},
   "source": [
    "## Splitting Features and the Target Label"
   ]
  },
  {
   "cell_type": "code",
   "execution_count": 7,
   "id": "93f4bcf2",
   "metadata": {},
   "outputs": [
    {
     "name": "stdout",
     "output_type": "stream",
     "text": [
      "x_train: (22630, 14)\n",
      "y_train: (22630,)\n",
      "x_test: (7532, 14)\n",
      "y_test: (7532,)\n"
     ]
    }
   ],
   "source": [
    "x_train = df_train_cleaned.drop([\"target\"], axis=1)\n",
    "y_train = df_train_cleaned[\"target\"]\n",
    "print(\"x_train:\", x_train.shape)\n",
    "print(\"y_train:\", y_train.shape)\n",
    "\n",
    "x_test = df_test_cleaned.drop([\"target\"], axis=1)\n",
    "y_test = df_test_cleaned[\"target\"]\n",
    "print(\"x_test:\", x_test.shape)\n",
    "print(\"y_test:\", y_test.shape)"
   ]
  },
  {
   "cell_type": "markdown",
   "id": "4beb2671",
   "metadata": {},
   "source": [
    "## One-Hot Encoding"
   ]
  },
  {
   "cell_type": "code",
   "execution_count": 8,
   "id": "a61a3f80",
   "metadata": {},
   "outputs": [
    {
     "name": "stdout",
     "output_type": "stream",
     "text": [
      "x_train_encoded: (22630, 16851)\n",
      "x_test_encoded: (7532, 16851)\n"
     ]
    }
   ],
   "source": [
    "# Building the one-hot encoder model\n",
    "enc = sklearn.preprocessing.OneHotEncoder(handle_unknown=\"ignore\")\n",
    "enc.fit(x_train)\n",
    "\n",
    "# Encoding the categorical attriutes of training data\n",
    "x_train_encoded = enc.transform(x_train).toarray()\n",
    "\n",
    "# Encoding the categorical attriutes of test data\n",
    "x_test_encoded = enc.transform(x_test).toarray()\n",
    "\n",
    "print(\"x_train_encoded:\", x_train_encoded.shape)\n",
    "print(\"x_test_encoded:\", x_test_encoded.shape)"
   ]
  },
  {
   "cell_type": "markdown",
   "id": "4c454893",
   "metadata": {},
   "source": [
    "## Standardization"
   ]
  },
  {
   "cell_type": "code",
   "execution_count": 9,
   "id": "10a23637",
   "metadata": {},
   "outputs": [
    {
     "name": "stdout",
     "output_type": "stream",
     "text": [
      "x_train_standardized: (22630, 16851)\n",
      "x_test_standardized: (7532, 16851)\n"
     ]
    }
   ],
   "source": [
    "# Building a standardization model\n",
    "scaler = sklearn.preprocessing.StandardScaler()\n",
    "scaler.fit(x_train_encoded)\n",
    "\n",
    "# scaling the training features\n",
    "x_train_standardized = scaler.transform(x_train_encoded)\n",
    "\n",
    "# Reducing the number of test features\n",
    "x_test_standardized = scaler.transform(x_test_encoded)\n",
    "\n",
    "print(\"x_train_standardized:\", x_train_standardized.shape)\n",
    "print(\"x_test_standardized:\", x_test_standardized.shape)"
   ]
  },
  {
   "cell_type": "markdown",
   "id": "004be4ba",
   "metadata": {},
   "source": [
    "## Dimensionality Reduction"
   ]
  },
  {
   "cell_type": "code",
   "execution_count": 10,
   "id": "bea4d986",
   "metadata": {},
   "outputs": [
    {
     "name": "stdout",
     "output_type": "stream",
     "text": [
      "x_train_reduced: (22630, 100)\n",
      "x_test_reduced: (7532, 100)\n"
     ]
    }
   ],
   "source": [
    "# Building a PCA model\n",
    "pca = sklearn.decomposition.PCA(n_components=100)\n",
    "pca.fit(x_train_standardized)\n",
    "\n",
    "# Reducing the number of training features\n",
    "x_train_reduced = pca.transform(x_train_standardized)\n",
    "\n",
    "# Reducing the number of test features\n",
    "x_test_reduced = pca.transform(x_test_standardized)\n",
    "\n",
    "print(\"x_train_reduced:\", x_train_reduced.shape)\n",
    "print(\"x_test_reduced:\", x_test_reduced.shape)"
   ]
  },
  {
   "cell_type": "markdown",
   "id": "cc20f0fa",
   "metadata": {},
   "source": [
    "## Oversampling"
   ]
  },
  {
   "cell_type": "code",
   "execution_count": 12,
   "id": "ca038b5e",
   "metadata": {},
   "outputs": [
    {
     "data": {
      "text/plain": [
       " <=50K    16995\n",
       " >50K     16995\n",
       "Name: target, dtype: int64"
      ]
     },
     "execution_count": 12,
     "metadata": {},
     "output_type": "execute_result"
    }
   ],
   "source": [
    "sm = imblearn.over_sampling.SMOTE() \n",
    "x_train_balanced, y_train_balanced = sm.fit_resample(x_train_reduced, y_train)\n",
    "y_train_balanced.value_counts()"
   ]
  },
  {
   "cell_type": "markdown",
   "id": "9d7a4704",
   "metadata": {},
   "source": [
    "## Training a Model"
   ]
  },
  {
   "cell_type": "code",
   "execution_count": 13,
   "id": "a6ecf942",
   "metadata": {},
   "outputs": [],
   "source": [
    "model = sklearn.svm.SVC()\n",
    "model.fit(x_train_balanced, y_train_balanced);"
   ]
  },
  {
   "cell_type": "markdown",
   "id": "be13241a",
   "metadata": {},
   "source": [
    "## Test the Trained Model"
   ]
  },
  {
   "cell_type": "code",
   "execution_count": 15,
   "id": "8ac12e20",
   "metadata": {},
   "outputs": [
    {
     "data": {
      "text/plain": [
       "0.7950079660116834"
      ]
     },
     "execution_count": 15,
     "metadata": {},
     "output_type": "execute_result"
    }
   ],
   "source": [
    "y_predicted = model.predict(x_test_reduced)\n",
    "accuracy = sklearn.metrics.accuracy_score(y_test, y_predicted)\n",
    "accuracy"
   ]
  }
 ],
 "metadata": {
  "kernelspec": {
   "display_name": "Python 3 (ipykernel)",
   "language": "python",
   "name": "python3"
  },
  "language_info": {
   "codemirror_mode": {
    "name": "ipython",
    "version": 3
   },
   "file_extension": ".py",
   "mimetype": "text/x-python",
   "name": "python",
   "nbconvert_exporter": "python",
   "pygments_lexer": "ipython3",
   "version": "3.7.11"
  }
 },
 "nbformat": 4,
 "nbformat_minor": 5
}
